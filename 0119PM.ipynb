{
  "nbformat": 4,
  "nbformat_minor": 0,
  "metadata": {
    "colab": {
      "provenance": [],
      "authorship_tag": "ABX9TyNw7TukLB3LIPqKyDiFCJhc",
      "include_colab_link": true
    },
    "kernelspec": {
      "name": "python3",
      "display_name": "Python 3"
    },
    "language_info": {
      "name": "python"
    }
  },
  "cells": [
    {
      "cell_type": "markdown",
      "metadata": {
        "id": "view-in-github",
        "colab_type": "text"
      },
      "source": [
        "<a href=\"https://colab.research.google.com/github/Seobway23/story/blob/master/0119PM.ipynb\" target=\"_parent\"><img src=\"https://colab.research.google.com/assets/colab-badge.svg\" alt=\"Open In Colab\"/></a>"
      ]
    },
    {
      "cell_type": "code",
      "execution_count": null,
      "metadata": {
        "id": "ycoHS-06SlYR"
      },
      "outputs": [],
      "source": [
        "데일리과제 5-4. 셀프넘버 및 제너레이터 찾기 예제\t\t\n",
        "데일리실습 5-2. 예외처리 활용, 연산 함수 구현 예제\n",
        "\n"
      ]
    },
    {
      "cell_type": "markdown",
      "source": [
        "# Calendar&datetime을 이용하여 날짜분석 프로그램 만들기 !!"
      ],
      "metadata": {
        "id": "OBN40zRHgiOs"
      }
    },
    {
      "cell_type": "code",
      "source": [
        "import calendar\n",
        "from datetime import datetime,date\n",
        "#datetime nowㅇ에서 요일 확인하는 법\n",
        "#datetime.(A.B.C)weekday()\n",
        "\n",
        "days = ['월요일', '화요일', '수요일', '목요일', '금요일', '토요일', '일요일']\n",
        "\n",
        "\n",
        "while True:\n",
        "    year_time=int(input())\n",
        "    if (year_time%4==0 and year_time%100!=0) or year_time%400==0:\n",
        "        print('윤년입니다. 연도를 다시 입력해주세요')\n",
        "  \n",
        "    else:\n",
        "        break\n",
        "\n",
        "print(calendar.calendar(year_time))\n",
        "#year_time=int(input())\n",
        "month_time=int(input())\n",
        "date_time=int(input())\n",
        "T_date=date(year_time,month_time,date_time).weekday()\n",
        "\n",
        "if T_date==0:\n",
        "    A=days[T_date]\n",
        "    \n",
        "    print(f\"경고 {A}입니다\",'\\n',f\"{{'년':{year_time}, '월':{month_time},'일': {date_time},'요일':'{A}'}}\")\n",
        "\n",
        "\n",
        "\n"
      ],
      "metadata": {
        "colab": {
          "base_uri": "https://localhost:8080/"
        },
        "id": "I9FUWU0ySqVW",
        "outputId": "1f009d1d-6464-4f35-f045-93fe4cacfd03"
      },
      "execution_count": null,
      "outputs": [
        {
          "output_type": "stream",
          "name": "stdout",
          "text": [
            "2015\n",
            "                                  2015\n",
            "\n",
            "      January                   February                   March\n",
            "Mo Tu We Th Fr Sa Su      Mo Tu We Th Fr Sa Su      Mo Tu We Th Fr Sa Su\n",
            "          1  2  3  4                         1                         1\n",
            " 5  6  7  8  9 10 11       2  3  4  5  6  7  8       2  3  4  5  6  7  8\n",
            "12 13 14 15 16 17 18       9 10 11 12 13 14 15       9 10 11 12 13 14 15\n",
            "19 20 21 22 23 24 25      16 17 18 19 20 21 22      16 17 18 19 20 21 22\n",
            "26 27 28 29 30 31         23 24 25 26 27 28         23 24 25 26 27 28 29\n",
            "                                                    30 31\n",
            "\n",
            "       April                      May                       June\n",
            "Mo Tu We Th Fr Sa Su      Mo Tu We Th Fr Sa Su      Mo Tu We Th Fr Sa Su\n",
            "       1  2  3  4  5                   1  2  3       1  2  3  4  5  6  7\n",
            " 6  7  8  9 10 11 12       4  5  6  7  8  9 10       8  9 10 11 12 13 14\n",
            "13 14 15 16 17 18 19      11 12 13 14 15 16 17      15 16 17 18 19 20 21\n",
            "20 21 22 23 24 25 26      18 19 20 21 22 23 24      22 23 24 25 26 27 28\n",
            "27 28 29 30               25 26 27 28 29 30 31      29 30\n",
            "\n",
            "        July                     August                  September\n",
            "Mo Tu We Th Fr Sa Su      Mo Tu We Th Fr Sa Su      Mo Tu We Th Fr Sa Su\n",
            "       1  2  3  4  5                      1  2          1  2  3  4  5  6\n",
            " 6  7  8  9 10 11 12       3  4  5  6  7  8  9       7  8  9 10 11 12 13\n",
            "13 14 15 16 17 18 19      10 11 12 13 14 15 16      14 15 16 17 18 19 20\n",
            "20 21 22 23 24 25 26      17 18 19 20 21 22 23      21 22 23 24 25 26 27\n",
            "27 28 29 30 31            24 25 26 27 28 29 30      28 29 30\n",
            "                          31\n",
            "\n",
            "      October                   November                  December\n",
            "Mo Tu We Th Fr Sa Su      Mo Tu We Th Fr Sa Su      Mo Tu We Th Fr Sa Su\n",
            "          1  2  3  4                         1          1  2  3  4  5  6\n",
            " 5  6  7  8  9 10 11       2  3  4  5  6  7  8       7  8  9 10 11 12 13\n",
            "12 13 14 15 16 17 18       9 10 11 12 13 14 15      14 15 16 17 18 19 20\n",
            "19 20 21 22 23 24 25      16 17 18 19 20 21 22      21 22 23 24 25 26 27\n",
            "26 27 28 29 30 31         23 24 25 26 27 28 29      28 29 30 31\n",
            "                          30\n",
            "\n",
            "8\n",
            "31\n",
            "경고 월요일입니다 \n",
            " {'년':2015, '월':8,'일': 31,'요일':'월요일'}\n"
          ]
        }
      ]
    },
    {
      "cell_type": "markdown",
      "source": [
        "# 데이터 구조 복습&심화"
      ],
      "metadata": {
        "id": "fb91jGwDg8T8"
      }
    },
    {
      "cell_type": "code",
      "source": [
        "# 문자열을 배열 받아 애너그램 단위로 그룹핑하는 함수 group_anagrams를 작성해라\n",
        "\n",
        "\n",
        "# A.    입력 예시 \n",
        "# ['eat','tea','tan','ate','nat','bat']\n",
        "\n",
        "# B.    출력 예시 \n",
        "# [ ['eat', 'tea', 'ate'], ['tan', 'nat'], ['bat'] ] \n"
      ],
      "metadata": {
        "colab": {
          "base_uri": "https://localhost:8080/"
        },
        "id": "Bcoywx-vYFYZ",
        "outputId": "f4e30827-ac56-4687-b37e-9ed0c2da4eec"
      },
      "execution_count": null,
      "outputs": [
        {
          "output_type": "stream",
          "name": "stdout",
          "text": [
            "금요일\n"
          ]
        }
      ]
    },
    {
      "cell_type": "code",
      "source": [
        "A = [\"eat\", \"tea\", \"tan\", \"ate\", \"nat\", \"bat\"]\n",
        "\n",
        "\n",
        "\n",
        "def group_anagrams(A):\n",
        "\n",
        "    Count={}\n",
        "\n",
        "    for key in A:\n",
        "        Count_key=''.join(sorted(key))\n",
        "    \n",
        "        if Count_key in Count:\n",
        "            Count[Count_key].append(key)\n",
        "\n",
        "        else:\n",
        "            Count[Count_key]=[key]\n",
        "    \n",
        "    B=list(Count.values()) #A.values()를 list로 묶어버리면 value값만 list로 묶을 수 있다\n",
        "    return B\n",
        "\n",
        "\n",
        "group_anagrams(A)"
      ],
      "metadata": {
        "id": "f3eCnhNEtTx9",
        "colab": {
          "base_uri": "https://localhost:8080/"
        },
        "outputId": "f2b534a2-715e-42a1-ccc7-0554705780e1"
      },
      "execution_count": 79,
      "outputs": [
        {
          "output_type": "execute_result",
          "data": {
            "text/plain": [
              "[['eat', 'tea', 'ate'], ['tan', 'nat'], ['bat']]"
            ]
          },
          "metadata": {},
          "execution_count": 79
        }
      ]
    },
    {
      "cell_type": "markdown",
      "source": [
        "1.\n",
        "어떤 자연수 n이 있을 때, d(n)을 n의 각 자릿수 숫자들과 n 자신을 더한 숫자라고 정의하자\n",
        "예를 들어 d(91)=9+1+91=101일 때, n을 d(n)의 generator라고 한다. 함수 fn_d(n)을 정의하여 보라\n",
        "\n",
        "2.\n",
        "어떤 숫자들은 하나 이상의 제너레이터를 가지고 있는데, 101의 제너레이터는 91뿐만 아니라 100도 있다.\n",
        "반대로 제너레이터가 없는 숫자들도 있으며, 이런 숫자를 인도의 수학자가 셀프넘버라 이름붙였다.\n",
        "예를 들어 1, 3, 5 , 7, 9 , 20, 31은 셀프넘버들이다.\n",
        "셀프넘버를 판별하는 is_selfnumber(n)을 앞서 작성한 fn_d(n)을 사용하여 작성하라."
      ],
      "metadata": {
        "id": "QGugjKGcyoKZ"
      }
    },
    {
      "cell_type": "code",
      "source": [
        "#fn_d(91)\n",
        "#101\n",
        "# 1번째 방법- int-> string으로 바꾸고 각 자리에 따른 것들을 int로 변환하여 더하고 마지막 int(n)을 더한다\n",
        "# 2번째 방법- 자리수를 10의 배수로 나눠서 각각 더한다"
      ],
      "metadata": {
        "id": "hSMcqPkFyquA"
      },
      "execution_count": null,
      "outputs": []
    },
    {
      "cell_type": "code",
      "source": [
        "def fn_d(n):\n",
        "    N=[int(i) for i in str(n)]\n",
        "    return sum(N)            \n",
        "\n",
        "\n",
        "fn_d(2324)\n",
        "\n"
      ],
      "metadata": {
        "colab": {
          "base_uri": "https://localhost:8080/"
        },
        "id": "UwSZA2J50vLn",
        "outputId": "061011be-fd57-4442-9cf9-7d5335eab839"
      },
      "execution_count": 70,
      "outputs": [
        {
          "output_type": "execute_result",
          "data": {
            "text/plain": [
              "11"
            ]
          },
          "metadata": {},
          "execution_count": 70
        }
      ]
    },
    {
      "cell_type": "code",
      "source": [
        "#1 자리수 더하기\n",
        "def sum_n(n):\n",
        "    lst_n=list(str(n))\n",
        "    map(int,lst_n)\n",
        "    return sum(map(int,lst_n))\n",
        "\n",
        "#2 generator 생성\n",
        "def fn_g(n):\n",
        "    sum_gen= sum_n(n)+int(n)\n",
        "    return sum_gen\n",
        "\n",
        "#3self-number 판별\n",
        "def is_selfnumber(n):\n",
        "    fn_g(n)\n",
        "    if \n",
        "\n",
        "fn_g(40)"
      ],
      "metadata": {
        "colab": {
          "base_uri": "https://localhost:8080/"
        },
        "id": "2UISxByd2vmG",
        "outputId": "a6d1a84a-3c83-4f8c-b5b3-adf9110e0101"
      },
      "execution_count": 83,
      "outputs": [
        {
          "output_type": "execute_result",
          "data": {
            "text/plain": [
              "44"
            ]
          },
          "metadata": {},
          "execution_count": 83
        }
      ]
    },
    {
      "cell_type": "code",
      "source": [],
      "metadata": {
        "id": "s5ax6eFw8UBz"
      },
      "execution_count": null,
      "outputs": []
    }
  ]
}