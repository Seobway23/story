{
  "nbformat": 4,
  "nbformat_minor": 0,
  "metadata": {
    "colab": {
      "provenance": [],
      "authorship_tag": "ABX9TyPTQtTThJXCUAR9wVG3j7h8",
      "include_colab_link": true
    },
    "kernelspec": {
      "name": "python3",
      "display_name": "Python 3"
    },
    "language_info": {
      "name": "python"
    }
  },
  "cells": [
    {
      "cell_type": "markdown",
      "metadata": {
        "id": "view-in-github",
        "colab_type": "text"
      },
      "source": [
        "<a href=\"https://colab.research.google.com/github/Seobway23/story/blob/master/practice_notebook.ipynb\" target=\"_parent\"><img src=\"https://colab.research.google.com/assets/colab-badge.svg\" alt=\"Open In Colab\"/></a>"
      ]
    },
    {
      "cell_type": "code",
      "source": [
        "words = [\"eat\", \"tea\", \"tan\", \"ate\", \"nat\", \"bat\"]"
      ],
      "metadata": {
        "id": "MGC6fDz_-YVj"
      },
      "execution_count": null,
      "outputs": []
    },
    {
      "cell_type": "markdown",
      "source": [
        "# 문자열 배열을 받아 애너그램 단위로 그룹핑하라"
      ],
      "metadata": {
        "id": "r4OEmjd2AJ96"
      }
    },
    {
      "cell_type": "markdown",
      "source": [
        "애너그램 단위라는 말은 순서 상관 없이 같은 단어라면 묶어라 라는 뜻 \n",
        "\n",
        "1. 애너그럼으로 아웃풋 낼 수 있는 함수를 찾아야 함\n",
        "2. 같은 값들 그룹핑\n",
        "\n",
        "끝"
      ],
      "metadata": {
        "id": "qD7OY8EHAbj6"
      }
    },
    {
      "cell_type": "code",
      "source": [
        "words = [\"eat\", \"tea\", \"tan\", \"ate\", \"nat\", \"bat\",\"banana\",\"ananab\",\"nanaba\",\"aannba\",\"bannaa\"]\n",
        "result={}\n",
        "\n",
        "for word in words:\n",
        "  w=''.join(sorted(word))           #sorted(word) = 'a','e','t' -> 'aet'로 합쳐주는 함수가 join이다.\n",
        "  result[w]=result.get(w,[])+[word] # get(key)을 쓰면 value값 반환\n",
        "\n",
        "print(result)\n"
      ],
      "metadata": {
        "colab": {
          "base_uri": "https://localhost:8080/"
        },
        "id": "mcZ0O8ZGAFPC",
        "outputId": "22097a61-8f86-45a4-ad57-7feb313a1e43"
      },
      "execution_count": null,
      "outputs": [
        {
          "output_type": "stream",
          "name": "stdout",
          "text": [
            "{'aet': ['eat', 'tea', 'ate'], 'ant': ['tan', 'nat'], 'abt': ['bat'], 'aaabnn': ['banana', 'ananab', 'nanaba', 'aannba', 'bannaa']}\n"
          ]
        }
      ]
    },
    {
      "cell_type": "markdown",
      "source": [
        "각 단어들을 sorted로 정리하여 차순으로 나타낼 수 있는가?\n"
      ],
      "metadata": {
        "id": "jO6nrbqkC226"
      }
    },
    {
      "cell_type": "markdown",
      "source": [
        "## Dicionary로 이루어진 list를 전달받아 모든 dictionary의 'age key'에 해당하는 value들의 합을 구하시오!!!!"
      ],
      "metadata": {
        "id": "jhmcwoc6KyzK"
      }
    },
    {
      "cell_type": "code",
      "source": [
        "infos = [{'name': 'kim', 'age': 12}, {'name': 'lee', 'age': 4}]\n",
        "\n",
        "sum_age=0\n",
        "\n",
        "for key in infos:\n",
        "  sum_age+=key['age']\n",
        "\n",
        "\n",
        "print(sum_age)\n"
      ],
      "metadata": {
        "colab": {
          "base_uri": "https://localhost:8080/"
        },
        "id": "jZbnzUmMWnmj",
        "outputId": "f1ae3d0b-99c0-4eea-d43e-3a8ba1911bd7"
      },
      "execution_count": null,
      "outputs": [
        {
          "output_type": "stream",
          "name": "stdout",
          "text": [
            "16\n"
          ]
        }
      ]
    },
    {
      "cell_type": "markdown",
      "source": [
        "## 복잡 자료형 딕셔너리 작성 및 활용\n",
        "\n",
        "- key(혈액형 종류) : value(사람수 )"
      ],
      "metadata": {
        "id": "Rp9J1uhtnUpA"
      }
    },
    {
      "cell_type": "code",
      "source": [
        "blood_types = [ 'A','A','O', 'B', 'A', 'O', 'AB','O', 'A', 'B', 'O', 'B', 'AB']\n"
      ],
      "metadata": {
        "id": "NaZ9lsKzjDxj"
      },
      "execution_count": null,
      "outputs": []
    },
    {
      "cell_type": "code",
      "source": [
        "blood_types = [ 'A','A','O', 'B', 'A', 'O', 'AB','O', 'A', 'B', 'O', 'B', 'AB']\n",
        "\n",
        "Count={}\n",
        "\n",
        "for key in blood_types:\n",
        "  if key in Count:\n",
        "    Count[key]+=1\n",
        "\n",
        "  else:\n",
        "    Count[key]=1\n",
        "\n",
        "print(Count)\n",
        "\n",
        "\n",
        "\n"
      ],
      "metadata": {
        "colab": {
          "base_uri": "https://localhost:8080/"
        },
        "id": "hlR8miSunjAq",
        "outputId": "7085b0bb-f9c3-4556-9e49-872a0ba265bb"
      },
      "execution_count": null,
      "outputs": [
        {
          "output_type": "stream",
          "name": "stdout",
          "text": [
            "{'A': 4, 'O': 4, 'B': 3, 'AB': 2}\n"
          ]
        }
      ]
    },
    {
      "cell_type": "code",
      "source": [
        "from collections import Counter\n",
        "blood_type_count = dict(Counter(blood_types))\n",
        "print(blood_type_count)"
      ],
      "metadata": {
        "colab": {
          "base_uri": "https://localhost:8080/"
        },
        "id": "k5Fl4BEpovbX",
        "outputId": "5f1abc65-21ca-41f5-ce13-b8583ae54fae"
      },
      "execution_count": null,
      "outputs": [
        {
          "output_type": "stream",
          "name": "stdout",
          "text": [
            "{'A': 4, 'O': 4, 'B': 3, 'AB': 2}\n"
          ]
        }
      ]
    },
    {
      "cell_type": "code",
      "source": [
        "from collections import Counter\n",
        "blood_type_count=dict(Counter(blood_types))\n",
        "print(blood_type_count)"
      ],
      "metadata": {
        "colab": {
          "base_uri": "https://localhost:8080/"
        },
        "id": "bCRy8Hrnp9AI",
        "outputId": "5db61478-4348-4da0-a66d-671914200afd"
      },
      "execution_count": null,
      "outputs": [
        {
          "output_type": "stream",
          "name": "stdout",
          "text": [
            "{'A': 4, 'O': 4, 'B': 3, 'AB': 2}\n"
          ]
        }
      ]
    },
    {
      "cell_type": "markdown",
      "source": [],
      "metadata": {
        "id": "-4Jsygryu3S0"
      }
    },
    {
      "cell_type": "code",
      "source": [
        "density_brine=[]\n",
        "amount_brine=[]\n",
        "amount_sort=[]\n",
        "for i in range(1,6):\n",
        "  A,B=map(float,input().split())\n",
        "  density_brine+=[A]\n",
        "  amount_brine+=[B]\n",
        "  amount_sort+=[A*B]\n",
        "#list에 float형태로 넣을 수?\n",
        "\n",
        "total_density=(sum(amount_sort)/sum(amount_brine))\n",
        "\n",
        "print(round(sum(density_brine)/sum(amount_brine),2))\n",
        "print(round((total_density),2))\n",
        "\n",
        "\n"
      ],
      "metadata": {
        "colab": {
          "base_uri": "https://localhost:8080/",
          "height": 266
        },
        "id": "YfIPyt_MvMvj",
        "outputId": "79fad3f4-9b5a-4e52-c3c6-abbe9e0c99e0"
      },
      "execution_count": null,
      "outputs": [
        {
          "name": "stdout",
          "output_type": "stream",
          "text": [
            "1 1\n"
          ]
        },
        {
          "output_type": "error",
          "ename": "TypeError",
          "evalue": "ignored",
          "traceback": [
            "\u001b[0;31m---------------------------------------------------------------------------\u001b[0m",
            "\u001b[0;31mTypeError\u001b[0m                                 Traceback (most recent call last)",
            "\u001b[0;32m<ipython-input-488-9a17baae662c>\u001b[0m in \u001b[0;36m<module>\u001b[0;34m\u001b[0m\n\u001b[1;32m      6\u001b[0m   \u001b[0mdensity_brine\u001b[0m\u001b[0;34m+=\u001b[0m\u001b[0;34m[\u001b[0m\u001b[0mA\u001b[0m\u001b[0;34m]\u001b[0m\u001b[0;34m\u001b[0m\u001b[0;34m\u001b[0m\u001b[0m\n\u001b[1;32m      7\u001b[0m   \u001b[0mamount_brine\u001b[0m\u001b[0;34m+=\u001b[0m\u001b[0;34m[\u001b[0m\u001b[0mB\u001b[0m\u001b[0;34m]\u001b[0m\u001b[0;34m\u001b[0m\u001b[0;34m\u001b[0m\u001b[0m\n\u001b[0;32m----> 8\u001b[0;31m   \u001b[0mamount_sort\u001b[0m\u001b[0;34m+=\u001b[0m\u001b[0;34m[\u001b[0m\u001b[0mA\u001b[0m\u001b[0;34m*\u001b[0m\u001b[0mB\u001b[0m\u001b[0;34m]\u001b[0m\u001b[0;34m\u001b[0m\u001b[0;34m\u001b[0m\u001b[0m\n\u001b[0m\u001b[1;32m      9\u001b[0m \u001b[0;31m#list에 float형태로 넣을 수?\u001b[0m\u001b[0;34m\u001b[0m\u001b[0;34m\u001b[0m\u001b[0;34m\u001b[0m\u001b[0m\n\u001b[1;32m     10\u001b[0m \u001b[0;34m\u001b[0m\u001b[0m\n",
            "\u001b[0;31mTypeError\u001b[0m: can't multiply sequence by non-int of type 'str'"
          ]
        }
      ]
    },
    {
      "cell_type": "code",
      "source": [
        "A=['2']\n",
        "\n",
        "int(A[0])"
      ],
      "metadata": {
        "colab": {
          "base_uri": "https://localhost:8080/"
        },
        "id": "Wv7xOdjm4MEf",
        "outputId": "d43a9fb5-1794-4378-8336-ea3070d8532b"
      },
      "execution_count": null,
      "outputs": [
        {
          "output_type": "execute_result",
          "data": {
            "text/plain": [
              "2"
            ]
          },
          "metadata": {},
          "execution_count": 487
        }
      ]
    },
    {
      "cell_type": "code",
      "source": [
        "print(round((total_density),2))"
      ],
      "metadata": {
        "colab": {
          "base_uri": "https://localhost:8080/"
        },
        "id": "mA_-bSvtxzWa",
        "outputId": "c4286e0f-fe84-48ce-9642-a46b89467ee9"
      },
      "execution_count": null,
      "outputs": [
        {
          "output_type": "stream",
          "name": "stdout",
          "text": [
            "0.28\n"
          ]
        }
      ]
    },
    {
      "cell_type": "markdown",
      "source": [
        "# 소금물의 양, 농도 퍼센트 구하는 공식"
      ],
      "metadata": {
        "id": "fdh-jan4zqHx"
      }
    },
    {
      "cell_type": "code",
      "source": [
        "print(round(sum(density_brine,2)/sum()))"
      ],
      "metadata": {
        "colab": {
          "base_uri": "https://localhost:8080/",
          "height": 174
        },
        "id": "NMjXY3HUzt6Y",
        "outputId": "be825453-66a8-439c-e417-4a49a6b76955"
      },
      "execution_count": null,
      "outputs": [
        {
          "output_type": "error",
          "ename": "TypeError",
          "evalue": "ignored",
          "traceback": [
            "\u001b[0;31m---------------------------------------------------------------------------\u001b[0m",
            "\u001b[0;31mTypeError\u001b[0m                                 Traceback (most recent call last)",
            "\u001b[0;32m<ipython-input-467-2483f4c53120>\u001b[0m in \u001b[0;36m<module>\u001b[0;34m\u001b[0m\n\u001b[0;32m----> 1\u001b[0;31m \u001b[0mprint\u001b[0m\u001b[0;34m(\u001b[0m\u001b[0mround\u001b[0m\u001b[0;34m(\u001b[0m\u001b[0msum\u001b[0m\u001b[0;34m(\u001b[0m\u001b[0mdensity_brine\u001b[0m\u001b[0;34m,\u001b[0m\u001b[0;36m2\u001b[0m\u001b[0;34m)\u001b[0m\u001b[0;34m/\u001b[0m\u001b[0msum\u001b[0m\u001b[0;34m(\u001b[0m\u001b[0;34m)\u001b[0m\u001b[0;34m)\u001b[0m\u001b[0;34m)\u001b[0m\u001b[0;34m\u001b[0m\u001b[0;34m\u001b[0m\u001b[0m\n\u001b[0m",
            "\u001b[0;31mTypeError\u001b[0m: sum() takes at least 1 positional argument (0 given)"
          ]
        }
      ]
    },
    {
      "cell_type": "code",
      "source": [
        "print(round(sum(density_brine)/sum(amount_brine),2))"
      ],
      "metadata": {
        "colab": {
          "base_uri": "https://localhost:8080/"
        },
        "id": "AvKC-yK-2wkY",
        "outputId": "9ecf1a6a-c774-49b9-ba3d-0d667fc33cd3"
      },
      "execution_count": null,
      "outputs": [
        {
          "output_type": "stream",
          "name": "stdout",
          "text": [
            "1.0\n"
          ]
        }
      ]
    },
    {
      "cell_type": "code",
      "source": [
        "a= ['1','2','3','4','5']\n",
        "an222=[]\n",
        "for i in range(1,4):\n",
        "  an222.append(i)\n",
        "\n",
        "print(an222)"
      ],
      "metadata": {
        "colab": {
          "base_uri": "https://localhost:8080/"
        },
        "id": "C45j3YNf20xX",
        "outputId": "202a129d-138a-4923-b856-6cd117418251"
      },
      "execution_count": null,
      "outputs": [
        {
          "output_type": "stream",
          "name": "stdout",
          "text": [
            "[1, 2, 3]\n"
          ]
        }
      ]
    },
    {
      "cell_type": "code",
      "source": [],
      "metadata": {
        "id": "yvZbphYr6Nbs"
      },
      "execution_count": null,
      "outputs": []
    },
    {
      "cell_type": "code",
      "source": [],
      "metadata": {
        "id": "wm33et4a6NCF"
      },
      "execution_count": null,
      "outputs": []
    },
    {
      "cell_type": "code",
      "source": [],
      "metadata": {
        "id": "DaMkl5Pl6qh1"
      },
      "execution_count": null,
      "outputs": []
    }
  ]
}