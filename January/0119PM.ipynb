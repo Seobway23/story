{
  "nbformat": 4,
  "nbformat_minor": 0,
  "metadata": {
    "colab": {
      "provenance": [],
      "authorship_tag": "ABX9TyNtWoVqDlqGMnGq6nVIa68n",
      "include_colab_link": true
    },
    "kernelspec": {
      "name": "python3",
      "display_name": "Python 3"
    },
    "language_info": {
      "name": "python"
    }
  },
  "cells": [
    {
      "cell_type": "markdown",
      "metadata": {
        "id": "view-in-github",
        "colab_type": "text"
      },
      "source": [
        "<a href=\"https://colab.research.google.com/github/Seobway23/story/blob/master/0119PM.ipynb\" target=\"_parent\"><img src=\"https://colab.research.google.com/assets/colab-badge.svg\" alt=\"Open In Colab\"/></a>"
      ]
    },
    {
      "cell_type": "code",
      "execution_count": null,
      "metadata": {
        "id": "ycoHS-06SlYR"
      },
      "outputs": [],
      "source": [
        "데일리과제 5-4. 셀프넘버 및 제너레이터 찾기 예제\t\t\n",
        "데일리실습 5-2. 예외처리 활용, 연산 함수 구현 예제\n",
        "   - 해당 문제는 제출만(예외처리 배운 후 풀기)\n"
      ]
    },
    {
      "cell_type": "markdown",
      "source": [
        "# Calendar&datetime을 이용하여 날짜분석 프로그램 만들기 !!"
      ],
      "metadata": {
        "id": "OBN40zRHgiOs"
      }
    },
    {
      "cell_type": "code",
      "source": [
        "import calendar\n",
        "from datetime import datetime,date\n",
        "#datetime nowㅇ에서 요일 확인하는 법\n",
        "#datetime.(A.B.C)weekday()\n",
        "\n",
        "days = ['월요일', '화요일', '수요일', '목요일', '금요일', '토요일', '일요일']\n",
        "\n",
        "\n",
        "while True:\n",
        "    year_time=int(input())\n",
        "    if (year_time%4==0 and year_time%100!=0) or year_time%400==0:\n",
        "        print('윤년입니다. 연도를 다시 입력해주세요')\n",
        "  \n",
        "    else:\n",
        "        break\n",
        "\n",
        "print(calendar.calendar(year_time))\n",
        "#year_time=int(input())\n",
        "month_time=int(input())\n",
        "date_time=int(input())\n",
        "T_date=date(year_time,month_time,date_time).weekday()\n",
        "\n",
        "if T_date==0:\n",
        "    A=days[T_date]\n",
        "    \n",
        "    print(f\"경고 {A}입니다\",'\\n',f\"{{'년':{year_time}, '월':{month_time},'일': {date_time},'요일':'{A}'}}\")\n",
        "\n",
        "\n",
        "\n"
      ],
      "metadata": {
        "colab": {
          "base_uri": "https://localhost:8080/"
        },
        "id": "I9FUWU0ySqVW",
        "outputId": "1f009d1d-6464-4f35-f045-93fe4cacfd03"
      },
      "execution_count": null,
      "outputs": [
        {
          "output_type": "stream",
          "name": "stdout",
          "text": [
            "2015\n",
            "                                  2015\n",
            "\n",
            "      January                   February                   March\n",
            "Mo Tu We Th Fr Sa Su      Mo Tu We Th Fr Sa Su      Mo Tu We Th Fr Sa Su\n",
            "          1  2  3  4                         1                         1\n",
            " 5  6  7  8  9 10 11       2  3  4  5  6  7  8       2  3  4  5  6  7  8\n",
            "12 13 14 15 16 17 18       9 10 11 12 13 14 15       9 10 11 12 13 14 15\n",
            "19 20 21 22 23 24 25      16 17 18 19 20 21 22      16 17 18 19 20 21 22\n",
            "26 27 28 29 30 31         23 24 25 26 27 28         23 24 25 26 27 28 29\n",
            "                                                    30 31\n",
            "\n",
            "       April                      May                       June\n",
            "Mo Tu We Th Fr Sa Su      Mo Tu We Th Fr Sa Su      Mo Tu We Th Fr Sa Su\n",
            "       1  2  3  4  5                   1  2  3       1  2  3  4  5  6  7\n",
            " 6  7  8  9 10 11 12       4  5  6  7  8  9 10       8  9 10 11 12 13 14\n",
            "13 14 15 16 17 18 19      11 12 13 14 15 16 17      15 16 17 18 19 20 21\n",
            "20 21 22 23 24 25 26      18 19 20 21 22 23 24      22 23 24 25 26 27 28\n",
            "27 28 29 30               25 26 27 28 29 30 31      29 30\n",
            "\n",
            "        July                     August                  September\n",
            "Mo Tu We Th Fr Sa Su      Mo Tu We Th Fr Sa Su      Mo Tu We Th Fr Sa Su\n",
            "       1  2  3  4  5                      1  2          1  2  3  4  5  6\n",
            " 6  7  8  9 10 11 12       3  4  5  6  7  8  9       7  8  9 10 11 12 13\n",
            "13 14 15 16 17 18 19      10 11 12 13 14 15 16      14 15 16 17 18 19 20\n",
            "20 21 22 23 24 25 26      17 18 19 20 21 22 23      21 22 23 24 25 26 27\n",
            "27 28 29 30 31            24 25 26 27 28 29 30      28 29 30\n",
            "                          31\n",
            "\n",
            "      October                   November                  December\n",
            "Mo Tu We Th Fr Sa Su      Mo Tu We Th Fr Sa Su      Mo Tu We Th Fr Sa Su\n",
            "          1  2  3  4                         1          1  2  3  4  5  6\n",
            " 5  6  7  8  9 10 11       2  3  4  5  6  7  8       7  8  9 10 11 12 13\n",
            "12 13 14 15 16 17 18       9 10 11 12 13 14 15      14 15 16 17 18 19 20\n",
            "19 20 21 22 23 24 25      16 17 18 19 20 21 22      21 22 23 24 25 26 27\n",
            "26 27 28 29 30 31         23 24 25 26 27 28 29      28 29 30 31\n",
            "                          30\n",
            "\n",
            "8\n",
            "31\n",
            "경고 월요일입니다 \n",
            " {'년':2015, '월':8,'일': 31,'요일':'월요일'}\n"
          ]
        }
      ]
    },
    {
      "cell_type": "markdown",
      "source": [
        "# 데이터 구조 복습&심화"
      ],
      "metadata": {
        "id": "fb91jGwDg8T8"
      }
    },
    {
      "cell_type": "code",
      "source": [
        "# 문자열을 배열 받아 애너그램 단위로 그룹핑하는 함수 group_anagrams를 작성해라\n",
        "\n",
        "\n",
        "# A.    입력 예시 \n",
        "# ['eat','tea','tan','ate','nat','bat']\n",
        "\n",
        "# B.    출력 예시 \n",
        "# [ ['eat', 'tea', 'ate'], ['tan', 'nat'], ['bat'] ] \n"
      ],
      "metadata": {
        "colab": {
          "base_uri": "https://localhost:8080/"
        },
        "id": "Bcoywx-vYFYZ",
        "outputId": "f4e30827-ac56-4687-b37e-9ed0c2da4eec"
      },
      "execution_count": null,
      "outputs": [
        {
          "output_type": "stream",
          "name": "stdout",
          "text": [
            "금요일\n"
          ]
        }
      ]
    },
    {
      "cell_type": "code",
      "source": [
        "A = [\"eat\", \"tea\", \"tan\", \"ate\", \"nat\", \"bat\"]\n",
        "\n",
        "\n",
        "\n",
        "def group_anagrams(A):\n",
        "\n",
        "    Count={}\n",
        "\n",
        "    for key in A:\n",
        "        Count_key=''.join(sorted(key))\n",
        "    \n",
        "        if Count_key in Count:\n",
        "            Count[Count_key].append(key)\n",
        "\n",
        "        else:\n",
        "            Count[Count_key]=[key]\n",
        "    \n",
        "    B=list(Count.values()) #A.values()를 list로 묶어버리면 value값만 list로 묶을 수 있다\n",
        "    return B\n",
        "\n",
        "\n",
        "group_anagrams(A)"
      ],
      "metadata": {
        "id": "f3eCnhNEtTx9",
        "colab": {
          "base_uri": "https://localhost:8080/"
        },
        "outputId": "f2b534a2-715e-42a1-ccc7-0554705780e1"
      },
      "execution_count": null,
      "outputs": [
        {
          "output_type": "execute_result",
          "data": {
            "text/plain": [
              "[['eat', 'tea', 'ate'], ['tan', 'nat'], ['bat']]"
            ]
          },
          "metadata": {},
          "execution_count": 79
        }
      ]
    },
    {
      "cell_type": "markdown",
      "source": [
        "1.\n",
        "어떤 자연수 n이 있을 때, d(n)을 n의 각 자릿수 숫자들과 n 자신을 더한 숫자라고 정의하자\n",
        "예를 들어 d(91)=9+1+91=101일 때, n을 d(n)의 generator라고 한다. 함수 fn_d(n)을 정의하여 보라\n",
        "\n",
        "2.\n",
        "어떤 숫자들은 하나 이상의 제너레이터를 가지고 있는데, 101의 제너레이터는 91뿐만 아니라 100도 있다.\n",
        "반대로 제너레이터가 없는 숫자들도 있으며, 이런 숫자를 인도의 수학자가 셀프넘버라 이름붙였다.\n",
        "예를 들어 1, 3, 5 , 7, 9 , 20, 31은 셀프넘버들이다.\n",
        "셀프넘버를 판별하는 is_selfnumber(n)을 앞서 작성한 fn_d(n)을 사용하여 작성하라."
      ],
      "metadata": {
        "id": "QGugjKGcyoKZ"
      }
    },
    {
      "cell_type": "code",
      "source": [
        "#fn_d(91)\n",
        "#101\n",
        "# 1번째 방법- int-> string으로 바꾸고 각 자리에 따른 것들을 int로 변환하여 더하고 마지막 int(n)을 더한다\n",
        "# 2번째 방법- 자리수를 10의 배수로 나눠서 각각 더한다"
      ],
      "metadata": {
        "id": "hSMcqPkFyquA"
      },
      "execution_count": null,
      "outputs": []
    },
    {
      "cell_type": "markdown",
      "source": [
        "## Self number 판별 def 정의"
      ],
      "metadata": {
        "id": "oyG7IBiJe2Kx"
      }
    },
    {
      "cell_type": "code",
      "source": [
        "#1 자리수 더하기\n",
        "def sum_n(n):\n",
        "    lst_n=list(str(n))\n",
        "    map(int,lst_n)\n",
        "    return sum(map(int,lst_n))\n",
        "\n",
        "#2 generator 생성\n",
        "def fn_g(n):\n",
        "    sum_gen=0\n",
        "    sum_gen= sum_n(n)+int(n)\n",
        "    return sum_gen\n",
        "\n",
        "#3self-number 판별\n",
        "def is_selfnumber(n):\n",
        "    fn_g(n)\n",
        "    if fn_g(n) == n:\n",
        "        print('This number is a generator integer')\n",
        "\n",
        "    else:\n",
        "        print('This number is a self-number')\n",
        "\n",
        "\n",
        "\n",
        "is_selfnumber(91)"
      ],
      "metadata": {
        "colab": {
          "base_uri": "https://localhost:8080/"
        },
        "id": "2UISxByd2vmG",
        "outputId": "69862d6e-b168-4e5b-d119-21c0e7b08660"
      },
      "execution_count": 9,
      "outputs": [
        {
          "output_type": "stream",
          "name": "stdout",
          "text": [
            "This number is a self-number\n"
          ]
        }
      ]
    },
    {
      "cell_type": "markdown",
      "source": [
        "# 1. 간단한 N의 약수 \n",
        "입력으로 1개의 정수 N 주어짐\n",
        "정수 N의 약수를 오름차순으로 출력"
      ],
      "metadata": {
        "id": "oKhcALeGfCjp"
      }
    },
    {
      "cell_type": "code",
      "source": [
        "N=int(input())\n",
        "\n",
        "for i in range(1,N+1):\n",
        "    if N%i==0:\n",
        "        print(i, end=' ')\n"
      ],
      "metadata": {
        "colab": {
          "base_uri": "https://localhost:8080/"
        },
        "id": "XORY7DXEvnxG",
        "outputId": "891394e7-622f-4721-98f1-cf7c591c5c5a"
      },
      "execution_count": 68,
      "outputs": [
        {
          "output_type": "stream",
          "name": "stdout",
          "text": [
            "5\n",
            "1 5 "
          ]
        }
      ]
    },
    {
      "cell_type": "code",
      "source": [
        "#입력 받기\n",
        "#N=int(input())\n",
        "\n",
        "#오름 차순 정의 -> list만들면 for문 차근차근하면 알아서 오름차순 정리됨\n",
        "# A=[1,2,3,5,6,2,1,5]\n",
        "#A.sort() # sort 는 A를 재정렬해주는 것\n",
        "# B=sorted(A) #sorted는 A를 재정렬하여 B에 할당\n",
        "\n",
        "#정수 N의 약수를 어떻게 고르냐\n",
        "N=int(input())\n",
        "\n",
        "def divisor_N(N):\n",
        "    divisor_N1=[]\n",
        "    for i in range(1,N+1):\n",
        "            if N%i==0:\n",
        "                divisor_N1+=[i]\n",
        "                #print(divisor_N1)\n",
        "    \n",
        "    return divisor_N1\n",
        "    #return sorted(divisor_N1,reverse=True) # -> 내림 차순 정렬\n",
        "\n",
        "divisor_N(N)\n",
        "\n",
        "\n",
        "\n"
      ],
      "metadata": {
        "colab": {
          "base_uri": "https://localhost:8080/"
        },
        "id": "oGh5HPIyfCOa",
        "outputId": "7352488e-10be-4a35-d98f-7b5f867b4aad"
      },
      "execution_count": 51,
      "outputs": [
        {
          "name": "stdout",
          "output_type": "stream",
          "text": [
            "10\n"
          ]
        },
        {
          "output_type": "execute_result",
          "data": {
            "text/plain": [
              "[1, 2, 5, 10]"
            ]
          },
          "metadata": {},
          "execution_count": 51
        }
      ]
    },
    {
      "cell_type": "markdown",
      "source": [
        "# 2. List 합 구하기\n",
        "정수로만 이루어진 list에서 요소들의 합을 반환하는 list_sum 함수를 sum()을 적용하지 않고 구하시오."
      ],
      "metadata": {
        "id": "RK-PmjEkl9P1"
      }
    },
    {
      "cell_type": "code",
      "source": [
        "def list_sum():\n",
        "    list_S=0\n",
        "    for i in N:\n",
        "        List_S+=int(i)\n",
        "\n",
        "    return List_S\n",
        "\n",
        "A=[1,2,3]\n",
        "list_sum()\n",
        "\n",
        "\n"
      ],
      "metadata": {
        "colab": {
          "base_uri": "https://localhost:8080/",
          "height": 376
        },
        "id": "tIfNcYpPl8WV",
        "outputId": "651a53e9-f71d-4886-e19d-4372b1156c47"
      },
      "execution_count": 73,
      "outputs": [
        {
          "output_type": "error",
          "ename": "TypeError",
          "evalue": "ignored",
          "traceback": [
            "\u001b[0;31m---------------------------------------------------------------------------\u001b[0m",
            "\u001b[0;31mTypeError\u001b[0m                                 Traceback (most recent call last)",
            "\u001b[0;32m<ipython-input-73-3a184d383b3f>\u001b[0m in \u001b[0;36m<module>\u001b[0;34m\u001b[0m\n\u001b[1;32m      7\u001b[0m \u001b[0;34m\u001b[0m\u001b[0m\n\u001b[1;32m      8\u001b[0m \u001b[0mA\u001b[0m\u001b[0;34m=\u001b[0m\u001b[0;34m[\u001b[0m\u001b[0;36m1\u001b[0m\u001b[0;34m,\u001b[0m\u001b[0;36m2\u001b[0m\u001b[0;34m,\u001b[0m\u001b[0;36m3\u001b[0m\u001b[0;34m]\u001b[0m\u001b[0;34m\u001b[0m\u001b[0;34m\u001b[0m\u001b[0m\n\u001b[0;32m----> 9\u001b[0;31m \u001b[0mlist_sum\u001b[0m\u001b[0;34m(\u001b[0m\u001b[0;34m)\u001b[0m\u001b[0;34m\u001b[0m\u001b[0;34m\u001b[0m\u001b[0m\n\u001b[0m\u001b[1;32m     10\u001b[0m \u001b[0;34m\u001b[0m\u001b[0m\n\u001b[1;32m     11\u001b[0m \u001b[0;34m\u001b[0m\u001b[0m\n",
            "\u001b[0;32m<ipython-input-73-3a184d383b3f>\u001b[0m in \u001b[0;36mlist_sum\u001b[0;34m()\u001b[0m\n\u001b[1;32m      1\u001b[0m \u001b[0;32mdef\u001b[0m \u001b[0mlist_sum\u001b[0m\u001b[0;34m(\u001b[0m\u001b[0;34m)\u001b[0m\u001b[0;34m:\u001b[0m\u001b[0;34m\u001b[0m\u001b[0;34m\u001b[0m\u001b[0m\n\u001b[1;32m      2\u001b[0m     \u001b[0mlist_S\u001b[0m\u001b[0;34m=\u001b[0m\u001b[0;36m0\u001b[0m\u001b[0;34m\u001b[0m\u001b[0;34m\u001b[0m\u001b[0m\n\u001b[0;32m----> 3\u001b[0;31m     \u001b[0;32mfor\u001b[0m \u001b[0mi\u001b[0m \u001b[0;32min\u001b[0m \u001b[0mN\u001b[0m\u001b[0;34m:\u001b[0m\u001b[0;34m\u001b[0m\u001b[0;34m\u001b[0m\u001b[0m\n\u001b[0m\u001b[1;32m      4\u001b[0m         \u001b[0mList_S\u001b[0m\u001b[0;34m+=\u001b[0m\u001b[0mint\u001b[0m\u001b[0;34m(\u001b[0m\u001b[0mi\u001b[0m\u001b[0;34m)\u001b[0m\u001b[0;34m\u001b[0m\u001b[0;34m\u001b[0m\u001b[0m\n\u001b[1;32m      5\u001b[0m \u001b[0;34m\u001b[0m\u001b[0m\n",
            "\u001b[0;31mTypeError\u001b[0m: 'int' object is not iterable"
          ]
        }
      ]
    },
    {
      "cell_type": "code",
      "source": [
        "lst=[1,2,3,4,5]\n",
        "def list_sum(lst):\n",
        "    result=0\n",
        "    for num in lst:\n",
        "        result=result+ num\n",
        "       # print(result)\n",
        "    return result\n",
        "\n",
        "\n",
        "list_sum(lst)"
      ],
      "metadata": {
        "colab": {
          "base_uri": "https://localhost:8080/"
        },
        "id": "ObsDGtJQiSbH",
        "outputId": "400cbb16-3b09-402b-9362-9db95d0150e6"
      },
      "execution_count": 79,
      "outputs": [
        {
          "output_type": "execute_result",
          "data": {
            "text/plain": [
              "15"
            ]
          },
          "metadata": {},
          "execution_count": 79
        }
      ]
    },
    {
      "cell_type": "markdown",
      "source": [
        "def 안에 for문을 돌릴려면 def 안에 result가 들어 있어야 함 \n",
        "\n",
        "def 밖의 function이 완료된 return값은 -> 제 기능을 하지 못함\n",
        "\n"
      ],
      "metadata": {
        "id": "SB8u2yP7xsaF"
      }
    },
    {
      "cell_type": "code",
      "source": [
        "lst= [\n",
        "    {'name':'kim','age': 12},\n",
        "    {'name':'lee', 'age':4}   \n",
        "]\n",
        "\n",
        "def dict_list_sum(lst):\n",
        "    result=0\n",
        "    for dic in lst:\n",
        "        result+=dic['age']\n",
        "\n",
        "    return result\n",
        "\n",
        "\n",
        "dict_list_sum(lst)"
      ],
      "metadata": {
        "colab": {
          "base_uri": "https://localhost:8080/"
        },
        "id": "KitYK14RruVi",
        "outputId": "d34bac9d-9096-4509-d9cb-b65dceb1da03"
      },
      "execution_count": 92,
      "outputs": [
        {
          "output_type": "execute_result",
          "data": {
            "text/plain": [
              "16"
            ]
          },
          "metadata": {},
          "execution_count": 92
        }
      ]
    },
    {
      "cell_type": "markdown",
      "source": [
        "오우 이거는 좀 해봐야겠음\n",
        "# 리스트 안의 리스트 뽑을 수 있다."
      ],
      "metadata": {
        "id": "43fhMQAeyrnm"
      }
    },
    {
      "cell_type": "code",
      "source": [
        "lst=[[1],[1,2],[1,2,3],[1,2,3,4]]\n",
        "\n",
        "def all_list_sum(lst):\n",
        "    result=0\n",
        "    for sub_lst in lst:\n",
        "        for num in sub_lst:\n",
        "            result+=num\n",
        "    return result\n",
        "\n",
        "all_list_sum(lst)\n"
      ],
      "metadata": {
        "colab": {
          "base_uri": "https://localhost:8080/"
        },
        "id": "w_Kf-n7zwt4G",
        "outputId": "10ab58cd-7125-46c6-ccc3-508fd0f719a4"
      },
      "execution_count": 96,
      "outputs": [
        {
          "output_type": "execute_result",
          "data": {
            "text/plain": [
              "20"
            ]
          },
          "metadata": {},
          "execution_count": 96
        }
      ]
    },
    {
      "cell_type": "code",
      "source": [
        "print()"
      ],
      "metadata": {
        "id": "5i2treuZygSF"
      },
      "execution_count": null,
      "outputs": []
    }
  ]
}