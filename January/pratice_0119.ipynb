{
  "nbformat": 4,
  "nbformat_minor": 0,
  "metadata": {
    "colab": {
      "provenance": [],
      "authorship_tag": "ABX9TyMIv2MnnCYqBSTNtYQGUQRL",
      "include_colab_link": true
    },
    "kernelspec": {
      "name": "python3",
      "display_name": "Python 3"
    },
    "language_info": {
      "name": "python"
    }
  },
  "cells": [
    {
      "cell_type": "markdown",
      "metadata": {
        "id": "view-in-github",
        "colab_type": "text"
      },
      "source": [
        "<a href=\"https://colab.research.google.com/github/Seobway23/story/blob/master/pratice_0119.ipynb\" target=\"_parent\"><img src=\"https://colab.research.google.com/assets/colab-badge.svg\" alt=\"Open In Colab\"/></a>"
      ]
    },
    {
      "cell_type": "markdown",
      "source": [
        "## 리스트안의 딕셔너리 안의 리스트안의 딕셔너리를 꺼내올 수 있는가?"
      ],
      "metadata": {
        "id": "uXI3PwKpJxVj"
      }
    },
    {
      "cell_type": "code",
      "source": [
        "A=[{{\"1\":\"2\"}:{\"2\":\"3\"}},{},{}]\n",
        "\n",
        "#안되는 듯 ?"
      ],
      "metadata": {
        "colab": {
          "base_uri": "https://localhost:8080/",
          "height": 230
        },
        "id": "_3PRaV9LJ2mz",
        "outputId": "15c56fd5-7c27-4511-f0a6-0165854308ea"
      },
      "execution_count": 152,
      "outputs": [
        {
          "output_type": "error",
          "ename": "TypeError",
          "evalue": "ignored",
          "traceback": [
            "\u001b[0;31m---------------------------------------------------------------------------\u001b[0m",
            "\u001b[0;31mTypeError\u001b[0m                                 Traceback (most recent call last)",
            "\u001b[0;32m<ipython-input-152-a310ec57154d>\u001b[0m in \u001b[0;36m<module>\u001b[0;34m\u001b[0m\n\u001b[0;32m----> 1\u001b[0;31m \u001b[0mA\u001b[0m\u001b[0;34m=\u001b[0m\u001b[0;34m[\u001b[0m\u001b[0;34m{\u001b[0m\u001b[0;34m{\u001b[0m\u001b[0;34m\"1\"\u001b[0m\u001b[0;34m:\u001b[0m\u001b[0;34m\"2\"\u001b[0m\u001b[0;34m}\u001b[0m\u001b[0;34m:\u001b[0m\u001b[0;34m{\u001b[0m\u001b[0;34m\"2\"\u001b[0m\u001b[0;34m:\u001b[0m\u001b[0;34m\"3\"\u001b[0m\u001b[0;34m}\u001b[0m\u001b[0;34m}\u001b[0m\u001b[0;34m,\u001b[0m\u001b[0;34m{\u001b[0m\u001b[0;34m}\u001b[0m\u001b[0;34m,\u001b[0m\u001b[0;34m{\u001b[0m\u001b[0;34m}\u001b[0m\u001b[0;34m]\u001b[0m\u001b[0;34m\u001b[0m\u001b[0;34m\u001b[0m\u001b[0m\n\u001b[0m\u001b[1;32m      2\u001b[0m \u001b[0;34m\u001b[0m\u001b[0m\n\u001b[1;32m      3\u001b[0m \u001b[0;31m#안되는 듯 ?\u001b[0m\u001b[0;34m\u001b[0m\u001b[0;34m\u001b[0m\u001b[0;34m\u001b[0m\u001b[0m\n\u001b[1;32m      4\u001b[0m \u001b[0;34m\u001b[0m\u001b[0m\n",
            "\u001b[0;31mTypeError\u001b[0m: unhashable type: 'dict'"
          ]
        }
      ]
    },
    {
      "cell_type": "code",
      "source": [
        "{\n",
        "    {\"1\":\"2\"} : {\"2\":\"3\"}\n",
        " }"
      ],
      "metadata": {
        "id": "Ylu2Mm662ABh"
      },
      "execution_count": null,
      "outputs": []
    },
    {
      "cell_type": "code",
      "source": [],
      "metadata": {
        "id": "df-pC2OW2Nkk"
      },
      "execution_count": null,
      "outputs": []
    },
    {
      "cell_type": "code",
      "source": [
        "key =불변 -> string int  et a,,ll\n",
        "\n",
        "value -> \n",
        "\n",
        "dic { 'b':1}\n",
        "{ 'b':1}"
      ],
      "metadata": {
        "id": "3mP9jnMbiaV7"
      },
      "execution_count": null,
      "outputs": []
    },
    {
      "cell_type": "markdown",
      "source": [
        "# Anagram"
      ],
      "metadata": {
        "id": "hFix-0Z5MKmJ"
      }
    },
    {
      "cell_type": "code",
      "source": [
        "## 궁금점 1\n",
        "\n",
        "# sort가 되면 str은 sort를 취급하지 않는다.\n",
        "# 목록에만 사용할 수 있다????\n",
        "# \n",
        "\n",
        "\n",
        "words = [\"eat\", \"tea\", \"tan\", \"ate\", \"nat\", \"bat\"]\n",
        "#sort의 경우 기존의 함수를 재정렬 한다\n",
        "#sorted의 경우 새로 함수를 만들어 정렬한다\n",
        "Count={}\n",
        "\n",
        "for key in words:\n",
        "  Count_key=''.join(sorted(key))\n",
        "  #print(count_key)\n",
        "  print(key)\n",
        "  #Count[Count_key]= [key]\n",
        "  print(Count)\n",
        "  # print(Count)\n",
        "  # print(key)\n",
        "\n",
        "# print(type(Count))\n",
        "# print(type(Count_key))\n",
        "#만약에 count_key값이 같으면, value값에 그 값을 추가해 \n",
        " \n",
        "  if Count_key in Count:\n",
        "    Count[Count_key].append(key)\n",
        "    print(Count)\n",
        "\n",
        "  else:\n",
        "    Count[Count_key]=[key]\n",
        "    print(\"else\", Count)\n",
        "    \n",
        "  # print(Count)\n",
        "\n",
        "print(Count)\n",
        "\n",
        "# # -> 왜 count_key 값으로 value값이 정해지는가?"
      ],
      "metadata": {
        "colab": {
          "base_uri": "https://localhost:8080/"
        },
        "id": "c_71RhmSKHwS",
        "outputId": "a9d90b20-b79a-4a8d-cf6d-7e6efc8a514e"
      },
      "execution_count": 220,
      "outputs": [
        {
          "output_type": "stream",
          "name": "stdout",
          "text": [
            "eat\n",
            "{}\n",
            "else {'aet': ['eat']}\n",
            "tea\n",
            "{'aet': ['eat']}\n",
            "{'aet': ['eat', 'tea']}\n",
            "tan\n",
            "{'aet': ['eat', 'tea']}\n",
            "else {'aet': ['eat', 'tea'], 'ant': ['tan']}\n",
            "ate\n",
            "{'aet': ['eat', 'tea'], 'ant': ['tan']}\n",
            "{'aet': ['eat', 'tea', 'ate'], 'ant': ['tan']}\n",
            "nat\n",
            "{'aet': ['eat', 'tea', 'ate'], 'ant': ['tan']}\n",
            "{'aet': ['eat', 'tea', 'ate'], 'ant': ['tan', 'nat']}\n",
            "bat\n",
            "{'aet': ['eat', 'tea', 'ate'], 'ant': ['tan', 'nat']}\n",
            "else {'aet': ['eat', 'tea', 'ate'], 'ant': ['tan', 'nat'], 'abt': ['bat']}\n",
            "{'aet': ['eat', 'tea', 'ate'], 'ant': ['tan', 'nat'], 'abt': ['bat']}\n"
          ]
        }
      ]
    },
    {
      "cell_type": "code",
      "source": [
        "# Anagram으로 dictionary형태로 묶어!!\n",
        "words = [\"eat\", \"tea\", \"tan\", \"ate\", \"nat\", \"bat\"]\n",
        "Anagram={}\n",
        "\n",
        "for word in words:\n",
        "    W=''.join(sorted(word))\n",
        "    \n",
        "    if W in Anagram:\n",
        "        Anagram[W].append(word)\n",
        "        #print(Anagram)\n",
        "    else:\n",
        "        Anagram[W]=[word] #-> 만약 없다면 w에 key, i의 딕셔너리 하나를 추가할꺼야\n",
        "        #print(\"else라면\",Anagram)\n",
        "\n",
        "\n",
        "print(Anagram)\n",
        "\n",
        "\n",
        "\n",
        "\n"
      ],
      "metadata": {
        "colab": {
          "base_uri": "https://localhost:8080/"
        },
        "id": "rlLB2M_q4Q0-",
        "outputId": "5f026ea1-338f-49be-966b-011897e3dd5b"
      },
      "execution_count": 230,
      "outputs": [
        {
          "output_type": "stream",
          "name": "stdout",
          "text": [
            "{'aet': ['eat', 'tea', 'ate'], 'ant': ['tan', 'nat'], 'abt': ['bat']}\n"
          ]
        }
      ]
    },
    {
      "cell_type": "code",
      "source": [
        "words = [\"eat\", \"tea\", \"tan\", \"ate\", \"nat\", \"bat\"]\n",
        "\n",
        "w={}\n",
        "\n",
        "for i in words:\n",
        "  key=''.join(sorted(i))\n",
        "\n",
        "  if key in w:\n",
        "    w[key].append(i)\n",
        "\n",
        "\n",
        "  else:\n",
        "    w[key]=[i] #-> 만약 없다면 w에 key, i의 딕셔너리 하나를 추가할꺼야\n",
        "\n",
        "\n",
        "print(w)\n",
        "\n",
        "\n",
        "\n",
        "\n",
        "\n"
      ],
      "metadata": {
        "colab": {
          "base_uri": "https://localhost:8080/"
        },
        "id": "TiOFzIkWNgOh",
        "outputId": "a17b0d90-2eca-4b50-95ae-b16e48668401"
      },
      "execution_count": 231,
      "outputs": [
        {
          "output_type": "stream",
          "name": "stdout",
          "text": [
            "{'aet': ['eat', 'tea', 'ate'], 'ant': ['tan', 'nat'], 'abt': ['bat']}\n"
          ]
        }
      ]
    },
    {
      "cell_type": "code",
      "source": [
        "def function_my_magic_func(n):\n",
        "  return n*10\n",
        "\n",
        "my_list=[1,2,3,4,5]\n",
        "my_list_1=[]\n",
        "for i in my_list:\n",
        "  my_list_1+=[i*10]\n",
        "\n",
        "\n",
        "print(my_list_1)\n"
      ],
      "metadata": {
        "colab": {
          "base_uri": "https://localhost:8080/"
        },
        "id": "LfeMP2ReSYn-",
        "outputId": "07a01bf0-c4f3-49ad-bbf8-d3594b54358f"
      },
      "execution_count": 221,
      "outputs": [
        {
          "output_type": "stream",
          "name": "stdout",
          "text": [
            "[10, 20, 30, 40, 50]\n"
          ]
        }
      ]
    },
    {
      "cell_type": "code",
      "source": [
        "def function_my_magic_func(n):\n",
        "  return n*10\n",
        "\n",
        "my_list=[1,2,3,4,5]\n",
        "\n",
        "\n",
        "map_obj= map (function_my_magic_func,my_list)\n",
        "print(list(map_obj))"
      ],
      "metadata": {
        "colab": {
          "base_uri": "https://localhost:8080/"
        },
        "id": "vL49CtK3XF8a",
        "outputId": "97fb4d61-6ed5-4fec-baa7-ae0af7efc32b"
      },
      "execution_count": 87,
      "outputs": [
        {
          "output_type": "stream",
          "name": "stdout",
          "text": [
            "[10, 20, 30, 40, 50]\n"
          ]
        }
      ]
    },
    {
      "cell_type": "code",
      "source": [
        "def odd(n):\n",
        "  return n&2\n",
        "\n",
        "numbers=[1,2,3]\n",
        "result=filter(odd,numbers)\n",
        "print()"
      ],
      "metadata": {
        "id": "JWjXCcXPY4ii"
      },
      "execution_count": null,
      "outputs": []
    },
    {
      "cell_type": "code",
      "source": [
        "name_list=['a','b','c','d']\n",
        "age_list=[1,2,3,4]\n",
        "\n",
        "list(zip(name_list,age_list))"
      ],
      "metadata": {
        "colab": {
          "base_uri": "https://localhost:8080/"
        },
        "id": "eqXXYll2a2Cw",
        "outputId": "922cf9ea-053e-42cb-b9e3-c99c6c03fd9f"
      },
      "execution_count": 90,
      "outputs": [
        {
          "output_type": "execute_result",
          "data": {
            "text/plain": [
              "[('a', 1), ('b', 2), ('c', 3), ('d', 4)]"
            ]
          },
          "metadata": {},
          "execution_count": 90
        }
      ]
    },
    {
      "cell_type": "code",
      "source": [],
      "metadata": {
        "id": "us7SSD-_a_hB"
      },
      "execution_count": null,
      "outputs": []
    },
    {
      "cell_type": "code",
      "source": [
        "# def function_my_magic_func(n):\n",
        "#   return n*10\n",
        "\n",
        "\n",
        "map_obj= map ((lambda n: n*10),[1,2,3])\n",
        "rlt=list(map_obj)\n",
        "\n",
        "print(rlt)"
      ],
      "metadata": {
        "colab": {
          "base_uri": "https://localhost:8080/"
        },
        "outputId": "31c04e41-d829-41ac-f228-8bc33dd07ef3",
        "id": "7eVFfCiXbkgq"
      },
      "execution_count": 96,
      "outputs": [
        {
          "output_type": "stream",
          "name": "stdout",
          "text": [
            "[10, 20, 30]\n"
          ]
        }
      ]
    },
    {
      "cell_type": "code",
      "source": [
        "n=int(input())\n",
        "\n",
        "rlt= print((lambda x: x*x)(n))"
      ],
      "metadata": {
        "colab": {
          "base_uri": "https://localhost:8080/"
        },
        "id": "W9ui38fKbFVn",
        "outputId": "91d766b1-fcae-46ab-8862-9a822014acd3"
      },
      "execution_count": 95,
      "outputs": [
        {
          "output_type": "stream",
          "name": "stdout",
          "text": [
            "5\n",
            "25\n"
          ]
        }
      ]
    },
    {
      "cell_type": "code",
      "source": [
        "dictionary={'1':2,'3':4}\n",
        "\n",
        "dictionary.keys()\n"
      ],
      "metadata": {
        "colab": {
          "base_uri": "https://localhost:8080/"
        },
        "id": "oro8AjRmcSZY",
        "outputId": "986f57c9-8050-484c-9a12-749bb54f2e7f"
      },
      "execution_count": 109,
      "outputs": [
        {
          "output_type": "execute_result",
          "data": {
            "text/plain": [
              "dict_keys(['1', '3'])"
            ]
          },
          "metadata": {},
          "execution_count": 109
        }
      ]
    },
    {
      "cell_type": "code",
      "source": [
        "# 자기 자신을  호출하는 함수\n",
        "\n",
        "# def recur():\n",
        "#     print('뿅')\n",
        "#     recur()\n",
        "\n",
        "\n",
        "#factorial \n",
        "\n",
        "def fac(n):\n",
        "    if n==0:\n",
        "        return 1\n",
        "    return n * fac(n-1)\n",
        "\n",
        "fac(5)"
      ],
      "metadata": {
        "colab": {
          "base_uri": "https://localhost:8080/"
        },
        "id": "DZMydXZqfyde",
        "outputId": "f3773501-d9ac-4e10-ebae-964508f59441"
      },
      "execution_count": 127,
      "outputs": [
        {
          "output_type": "execute_result",
          "data": {
            "text/plain": [
              "120"
            ]
          },
          "metadata": {},
          "execution_count": 127
        }
      ]
    },
    {
      "cell_type": "code",
      "source": [
        "def test(*args, **kwargs):\n",
        "  print(kwargs, type(kwargs))\n",
        "  print(args)\n",
        "  return kwargs\n",
        "\n",
        "\n",
        "test(1,2,3,4, name='aiden', age=21,music='IU')\n",
        "\n",
        "\n"
      ],
      "metadata": {
        "colab": {
          "base_uri": "https://localhost:8080/"
        },
        "id": "MBm0ItHZjTEj",
        "outputId": "7b6d322a-4e88-4191-bfca-f89743999a71"
      },
      "execution_count": 138,
      "outputs": [
        {
          "output_type": "stream",
          "name": "stdout",
          "text": [
            "{'name': 'aiden', 'age': 21, 'music': 'IU'} <class 'dict'>\n",
            "(1, 2, 3, 4)\n"
          ]
        },
        {
          "output_type": "execute_result",
          "data": {
            "text/plain": [
              "{'name': 'aiden', 'age': 21, 'music': 'IU'}"
            ]
          },
          "metadata": {},
          "execution_count": 138
        }
      ]
    },
    {
      "cell_type": "code",
      "source": [
        "import random\n",
        "\n",
        "\n",
        "a=[1,2,4,5]\n",
        "\n",
        "random.shuffle(a)\n",
        "\n",
        "print(a)\n",
        "\n",
        "\n",
        "print(random.suffle(a))"
      ],
      "metadata": {
        "colab": {
          "base_uri": "https://localhost:8080/",
          "height": 230
        },
        "id": "fLEVOOXvqaYY",
        "outputId": "342f39c4-51c0-43d2-de91-72489dc6f406"
      },
      "execution_count": 142,
      "outputs": [
        {
          "output_type": "stream",
          "name": "stdout",
          "text": [
            "[4, 5, 2, 1]\n"
          ]
        },
        {
          "output_type": "error",
          "ename": "AttributeError",
          "evalue": "ignored",
          "traceback": [
            "\u001b[0;31m---------------------------------------------------------------------------\u001b[0m",
            "\u001b[0;31mAttributeError\u001b[0m                            Traceback (most recent call last)",
            "\u001b[0;32m<ipython-input-142-7eb915d10663>\u001b[0m in \u001b[0;36m<module>\u001b[0;34m\u001b[0m\n\u001b[1;32m      9\u001b[0m \u001b[0;34m\u001b[0m\u001b[0m\n\u001b[1;32m     10\u001b[0m \u001b[0;34m\u001b[0m\u001b[0m\n\u001b[0;32m---> 11\u001b[0;31m \u001b[0mprint\u001b[0m\u001b[0;34m(\u001b[0m\u001b[0mrandom\u001b[0m\u001b[0;34m.\u001b[0m\u001b[0msuffle\u001b[0m\u001b[0;34m(\u001b[0m\u001b[0ma\u001b[0m\u001b[0;34m)\u001b[0m\u001b[0;34m)\u001b[0m\u001b[0;34m\u001b[0m\u001b[0;34m\u001b[0m\u001b[0m\n\u001b[0m",
            "\u001b[0;31mAttributeError\u001b[0m: module 'random' has no attribute 'suffle'"
          ]
        }
      ]
    },
    {
      "cell_type": "code",
      "source": [
        "a=[1,5,4,2]\n",
        "\n",
        "a.sort()\n",
        "\n",
        "\n",
        "print(a)"
      ],
      "metadata": {
        "colab": {
          "base_uri": "https://localhost:8080/"
        },
        "id": "UsCCsNUOxhB6",
        "outputId": "1feaa27c-6195-4914-8b61-3e32884c3aa4"
      },
      "execution_count": 148,
      "outputs": [
        {
          "output_type": "stream",
          "name": "stdout",
          "text": [
            "[1, 2, 4, 5]\n"
          ]
        }
      ]
    },
    {
      "cell_type": "code",
      "source": [
        "ltst=[1,2]\n",
        "\n",
        "def function_2():\n",
        "  n=n*5\n",
        "  \n",
        "B=map(function_2,ltst)\n",
        "\n",
        "print(list(B))"
      ],
      "metadata": {
        "colab": {
          "base_uri": "https://localhost:8080/",
          "height": 211
        },
        "id": "Wg4CN8-rxyBJ",
        "outputId": "6de153e1-ddfd-4f90-d2e7-56893bdb0e32"
      },
      "execution_count": 162,
      "outputs": [
        {
          "output_type": "error",
          "ename": "TypeError",
          "evalue": "ignored",
          "traceback": [
            "\u001b[0;31m---------------------------------------------------------------------------\u001b[0m",
            "\u001b[0;31mTypeError\u001b[0m                                 Traceback (most recent call last)",
            "\u001b[0;32m<ipython-input-162-054fcd09f9bf>\u001b[0m in \u001b[0;36m<module>\u001b[0;34m\u001b[0m\n\u001b[1;32m      6\u001b[0m \u001b[0mB\u001b[0m\u001b[0;34m=\u001b[0m\u001b[0mmap\u001b[0m\u001b[0;34m(\u001b[0m\u001b[0mfunction_2\u001b[0m\u001b[0;34m,\u001b[0m\u001b[0mltst\u001b[0m\u001b[0;34m)\u001b[0m\u001b[0;34m\u001b[0m\u001b[0;34m\u001b[0m\u001b[0m\n\u001b[1;32m      7\u001b[0m \u001b[0;34m\u001b[0m\u001b[0m\n\u001b[0;32m----> 8\u001b[0;31m \u001b[0mprint\u001b[0m\u001b[0;34m(\u001b[0m\u001b[0mlist\u001b[0m\u001b[0;34m(\u001b[0m\u001b[0mB\u001b[0m\u001b[0;34m)\u001b[0m\u001b[0;34m)\u001b[0m\u001b[0;34m\u001b[0m\u001b[0;34m\u001b[0m\u001b[0m\n\u001b[0m",
            "\u001b[0;31mTypeError\u001b[0m: function_2() takes 0 positional arguments but 1 was given"
          ]
        }
      ]
    },
    {
      "cell_type": "code",
      "source": [],
      "metadata": {
        "id": "tyOlUT8m1ElY"
      },
      "execution_count": null,
      "outputs": []
    }
  ]
}